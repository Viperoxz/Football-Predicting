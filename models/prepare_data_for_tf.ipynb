{
 "cells": [
  {
   "cell_type": "code",
   "execution_count": null,
   "metadata": {},
   "outputs": [],
   "source": [
    "from sklearn.svm import SVC\n",
    "from sklearn.model_selection import train_test_split, StratifiedKFold\n",
    "from sklearn.metrics import accuracy_score, confusion_matrix, ConfusionMatrixDisplay\n",
    "from sklearn.tree import DecisionTreeClassifier\n",
    "from sklearn.feature_selection import RFE, RFECV\n",
    "from sklearn.ensemble import RandomForestClassifier, GradientBoostingClassifier\n",
    "from sklearn.linear_model import LogisticRegression\n",
    "from sklearn.neural_network import MLPClassifier\n",
    "\n",
    "import pandas as pd \n",
    "import numpy as np \n",
    "import matplotlib.pyplot as plt "
   ]
  },
  {
   "cell_type": "code",
   "execution_count": null,
   "metadata": {},
   "outputs": [],
   "source": [
    "df = pd.read_csv('../data/preprocessed/layer1/matches_stats_data_1.csv')\n",
    "result_cols = ['result_A', 'result_D', 'result_H']"
   ]
  },
  {
   "cell_type": "code",
   "execution_count": null,
   "metadata": {},
   "outputs": [],
   "source": [
    "df = df[[col for col in df if col not in result_cols]+[col for col in result_cols if col in df]]\n",
    "df['season'] = df['season'].apply(lambda x:  int(x[2:4]) - 19)\n",
    "df['result_H'] = df['result_H'].apply(lambda x: 1 if x else 0)\n",
    "df['result_A'] = df['result_A'].apply(lambda x: 1 if x else 0)\n",
    "df['result_D'] = df['result_D'].apply(lambda x: 1 if x else 0)\n",
    "df = df.drop(columns='round')"
   ]
  },
  {
   "cell_type": "code",
   "execution_count": null,
   "metadata": {},
   "outputs": [],
   "source": [
    "home_columns = ['gf','ga', \n",
    "                'h_xg',\n",
    "                'h_xga', 'h_standard sot', 'h_kp', 'h_xa', 'h_poss_x',\n",
    "                'h_touches att pen', 'h_carries prgdist', 'h_progressive passing dist',\n",
    "                'h_tackles tklw', 'h_challenges tkl%', 'h_saves',\n",
    "                'h_strength_overall_home', 'h_overall_rating', 'h_attack_rating',\n",
    "                'h_midfield_rating', 'h_defence_rating', 'h_avg_age','soh']\n",
    "away_columns = ['ga','gf',\n",
    "                'a_xg', \n",
    "                'a_xga','a_standard sot', 'a_kp', 'a_xa', 'a_poss_x', \n",
    "                'a_touches att pen','a_carries prgdist', 'a_progressive passing dist', \n",
    "                'a_tackles tklw','a_challenges tkl%', 'a_saves',\n",
    "                'a_strength_overall_away', 'a_overall_rating', 'a_attack_rating',\n",
    "                'a_midfield_rating', 'a_defence_rating', 'a_avg_age', 'soa']\n",
    "\n",
    "bet_columns = ['b365h', 'b365d', 'b365a']"
   ]
  },
  {
   "cell_type": "code",
   "execution_count": null,
   "metadata": {},
   "outputs": [],
   "source": [
    "Home_run = pd.read_csv('../data/preprocessed/layer2/fts_home_0.csv')\n",
    "Home_run['season'] = Home_run['season'].apply(lambda x:  int(x[2:4]) - 19)\n",
    "# Home_run = Home_run.rename(columns={'team':'hometeam'})\n",
    "Home_run = Home_run.set_index(['team','opponent_team']).sort_index()\n",
    "\n",
    "\n",
    "Away_run = pd.read_csv('../data/preprocessed/layer2/fts_away_0.csv')\n",
    "Away_run['season'] = Away_run['season'].apply(lambda x:  int(x[2:4]) - 19)\n",
    "# Away_run = Away_run.rename(columns={'team':'awayteam'})\n",
    "Away_run = Away_run.set_index(['team','opponent_team']).sort_index()\n",
    "\n",
    "\n",
    "Home_sub = pd.read_csv('../data/preprocessed/layer2/fts_home_1.csv')\n",
    "Home_sub['season'] = Home_sub['season'].apply(lambda x:  int(x[2:4]) - 19)\n",
    "Home_sub = Home_sub.set_index(['team','opponent_team']).sort_index()\n",
    "\n",
    "\n",
    "Away_sub = pd.read_csv('../data/preprocessed/layer2/fts_away_1.csv')\n",
    "Away_sub['season'] = Away_sub['season'].apply(lambda x:  int(x[2:4]) - 19)\n",
    "Away_sub = Away_sub.set_index(['team','opponent_team']).sort_index()"
   ]
  },
  {
   "cell_type": "code",
   "execution_count": null,
   "metadata": {},
   "outputs": [],
   "source": [
    "ss20 = df[df['season']==1]\n",
    "hr20 = Home_run[Home_run['season']==1].drop(columns='season')\n",
    "hs20 = Home_sub[Home_sub['season']==1].drop(columns='season')\n",
    "ar20 = Away_run[Away_run['season']==1].drop(columns='season')\n",
    "as20 = Away_sub[Away_sub['season']==1].drop(columns='season')"
   ]
  },
  {
   "cell_type": "code",
   "execution_count": null,
   "metadata": {},
   "outputs": [],
   "source": [
    "def prepare_data(org_df: pd.DataFrame,hr:pd.DataFrame, ar:pd.DataFrame,\n",
    "                hsub: pd.DataFrame, asub: pd.DataFrame, prematch: int =5):\n",
    "    match_list = hr.index.drop_duplicates().values.tolist()\n",
    "    h_team_data = {}\n",
    "    a_team_data = {}\n",
    "    final_dict = {}\n",
    "    for team,_ in match_list:\n",
    "        h_team_data[team]=[]\n",
    "        a_team_data[team]=[]\n",
    "        final_dict[team] = {'HOME':{}, 'AWAY':{}}\n",
    "    for hometeam, awayteam in match_list:\n",
    "        tmp_data = org_df[(org_df['hometeam']==hometeam) & (org_df['awayteam']==awayteam)]\n",
    "        h_team_data[hometeam].append(np.hstack([hr.loc[hometeam, awayteam].iloc[:,1:-2].mean().values,\n",
    "                                                hsub.loc[hometeam, awayteam].iloc[:,2:-2].mean().values,tmp_data[home_columns].values[0] ]))\n",
    "        a_team_data[awayteam].append(np.hstack([ar.loc[awayteam, hometeam].iloc[:,1:-2].mean().values,\n",
    "                                                asub.loc[awayteam, hometeam].iloc[:,2:-2].mean().values, tmp_data[away_columns].values[0]]))\n",
    "    \n",
    "    for team, matches in h_team_data.items():\n",
    "        for idx in range(1,len(matches)):\n",
    "            if idx < prematch-1:\n",
    "                pre_match_data = matches[:idx+1]\n",
    "            else:\n",
    "                pre_match_data = matches[idx-prematch+1:idx+1]\n",
    "            pre_match_data_key = hr[hr['round']==int(pre_match_data[-1][0])].loc[team].index.unique().values[0]\n",
    "            pre_match_data = np.vstack(pre_match_data)\n",
    "            final_dict[team]['HOME'][pre_match_data_key] = pre_match_data[:-1, 1:]\n",
    "            \n",
    "    for team, matches in a_team_data.items():\n",
    "        for idx in range(1, len(matches)):\n",
    "            if idx < prematch-1:\n",
    "                pre_match_data = matches[:idx+1]\n",
    "            else:\n",
    "                pre_match_data = matches[idx-prematch+1:idx+1]\n",
    "            pre_match_data_key = ar[ar['round']==int(pre_match_data[-1][0])].loc[team].index.unique().values[0]\n",
    "            pre_match_data = np.vstack(pre_match_data)\n",
    "            final_dict[team]['AWAY'][pre_match_data_key] = pre_match_data[:-1, 1:]\n",
    "            \n",
    "    return final_dict"
   ]
  },
  {
   "cell_type": "code",
   "execution_count": null,
   "metadata": {},
   "outputs": [],
   "source": []
  }
 ],
 "metadata": {
  "kernelspec": {
   "display_name": "MODELAI",
   "language": "python",
   "name": "python3"
  },
  "language_info": {
   "name": "python",
   "version": "3.11.10"
  }
 },
 "nbformat": 4,
 "nbformat_minor": 2
}
