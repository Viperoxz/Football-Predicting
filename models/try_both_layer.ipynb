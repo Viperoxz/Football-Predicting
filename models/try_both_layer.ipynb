{
 "cells": [
  {
   "cell_type": "code",
   "execution_count": 100,
   "metadata": {},
   "outputs": [],
   "source": [
    "from sklearn.svm import SVC\n",
    "from sklearn.model_selection import train_test_split, StratifiedKFold\n",
    "from sklearn.metrics import accuracy_score, confusion_matrix, ConfusionMatrixDisplay\n",
    "from sklearn.tree import DecisionTreeClassifier\n",
    "from sklearn.feature_selection import RFE, RFECV\n",
    "from sklearn.ensemble import RandomForestClassifier, GradientBoostingClassifier\n",
    "from sklearn.linear_model import LogisticRegression\n",
    "from sklearn.neural_network import MLPClassifier\n",
    "\n",
    "import pandas as pd \n",
    "import numpy as np \n",
    "import matplotlib.pyplot as plt "
   ]
  },
  {
   "cell_type": "code",
   "execution_count": 101,
   "metadata": {},
   "outputs": [],
   "source": [
    "df = pd.read_csv('../data/preprocessed/layer1/matches_stats_data_1.csv')\n",
    "result_cols = ['result_A', 'result_D', 'result_H']"
   ]
  },
  {
   "cell_type": "code",
   "execution_count": 102,
   "metadata": {},
   "outputs": [],
   "source": [
    "df = df[[col for col in df if col not in result_cols]+[col for col in result_cols if col in df]]\n",
    "df['season'] = df['season'].apply(lambda x:  int(x[2:4]) - 19)\n",
    "df['result_H'] = df['result_H'].apply(lambda x: 1 if x else 0)\n",
    "df['result_A'] = df['result_A'].apply(lambda x: 1 if x else 0)\n",
    "df['result_D'] = df['result_D'].apply(lambda x: 1 if x else 0)\n",
    "df = df.drop(columns='round')"
   ]
  },
  {
   "cell_type": "code",
   "execution_count": 103,
   "metadata": {},
   "outputs": [],
   "source": [
    "home_columns = ['gf','ga', \n",
    "                'h_xg',\n",
    "                'h_xga', 'h_standard sot', 'h_kp', 'h_xa', 'h_poss_x',\n",
    "                'h_touches att pen', 'h_carries prgdist', 'h_progressive passing dist',\n",
    "                'h_tackles tklw', 'h_challenges tkl%', 'h_saves',\n",
    "                'h_strength_overall_home', 'h_overall_rating', 'h_attack_rating',\n",
    "                'h_midfield_rating', 'h_defence_rating', 'h_avg_age','soh']\n",
    "away_columns = ['ga','gf',\n",
    "                'a_xg', \n",
    "                'a_xga','a_standard sot', 'a_kp', 'a_xa', 'a_poss_x', \n",
    "                'a_touches att pen','a_carries prgdist', 'a_progressive passing dist', \n",
    "                'a_tackles tklw','a_challenges tkl%', 'a_saves',\n",
    "                'a_strength_overall_away', 'a_overall_rating', 'a_attack_rating',\n",
    "                'a_midfield_rating', 'a_defence_rating', 'a_avg_age', 'soa']\n",
    "\n",
    "bet_columns = ['b365h', 'b365d', 'b365a']"
   ]
  },
  {
   "cell_type": "code",
   "execution_count": 104,
   "metadata": {},
   "outputs": [
    {
     "data": {
      "text/plain": [
       "array([[0, 0, 1]])"
      ]
     },
     "execution_count": 104,
     "metadata": {},
     "output_type": "execute_result"
    }
   ],
   "source": [
    "df[(df['hometeam']=='AVL') & (df['awayteam']=='ARS') & (df['season']==1)][result_cols].values"
   ]
  },
  {
   "cell_type": "code",
   "execution_count": 105,
   "metadata": {},
   "outputs": [],
   "source": [
    "Home_run = pd.read_csv('../data/preprocessed/layer2/fts_home_0.csv')\n",
    "Home_run['season'] = Home_run['season'].apply(lambda x:  int(x[2:4]) - 19)\n",
    "# Home_run = Home_run.rename(columns={'team':'hometeam'})\n",
    "Home_run = Home_run.set_index(['team','opponent_team']).sort_index()\n",
    "\n",
    "\n",
    "Away_run = pd.read_csv('../data/preprocessed/layer2/fts_away_0.csv')\n",
    "Away_run['season'] = Away_run['season'].apply(lambda x:  int(x[2:4]) - 19)\n",
    "# Away_run = Away_run.rename(columns={'team':'awayteam'})\n",
    "Away_run = Away_run.set_index(['team','opponent_team']).sort_index()\n",
    "\n",
    "\n",
    "Home_sub = pd.read_csv('../data/preprocessed/layer2/fts_home_1.csv')\n",
    "Home_sub['season'] = Home_sub['season'].apply(lambda x:  int(x[2:4]) - 19)\n",
    "Home_sub = Home_sub.set_index(['team','opponent_team']).sort_index()\n",
    "\n",
    "\n",
    "Away_sub = pd.read_csv('../data/preprocessed/layer2/fts_away_1.csv')\n",
    "Away_sub['season'] = Away_sub['season'].apply(lambda x:  int(x[2:4]) - 19)\n",
    "Away_sub = Away_sub.set_index(['team','opponent_team']).sort_index()"
   ]
  },
  {
   "cell_type": "code",
   "execution_count": 106,
   "metadata": {},
   "outputs": [],
   "source": [
    "ss20 = df[df['season']==1]\n",
    "hr20 = Home_run[Home_run['season']==1].drop(columns='season')\n",
    "hs20 = Home_sub[Home_sub['season']==1].drop(columns='season')\n",
    "ar20 = Away_run[Away_run['season']==1].drop(columns='season')\n",
    "as20 = Away_sub[Away_sub['season']==1].drop(columns='season')"
   ]
  },
  {
   "cell_type": "code",
   "execution_count": 107,
   "metadata": {},
   "outputs": [],
   "source": [
    "def prepare_data(org_df: pd.DataFrame,hr:pd.DataFrame, ar:pd.DataFrame,\n",
    "                hsub: pd.DataFrame, asub: pd.DataFrame, prematch: int =5):\n",
    "    match_list = hr.index.drop_duplicates().values.tolist()\n",
    "    h_team_data = {}\n",
    "    a_team_data = {}\n",
    "    final_dict = {}\n",
    "    for team,_ in match_list:\n",
    "        h_team_data[team]=[]\n",
    "        a_team_data[team]=[]\n",
    "        final_dict[team] = {'HOME':{}, 'AWAY':{}}\n",
    "    for hometeam, awayteam in match_list:\n",
    "        tmp_data = org_df[(org_df['hometeam']==hometeam) & (org_df['awayteam']==awayteam)]\n",
    "        h_team_data[hometeam].append(np.hstack([hr.loc[hometeam, awayteam].iloc[:,1:-2].mean().values,\n",
    "                                                hsub.loc[hometeam, awayteam].iloc[:,2:-2].mean().values,tmp_data[home_columns].values[0] ]))\n",
    "        a_team_data[awayteam].append(np.hstack([ar.loc[awayteam, hometeam].iloc[:,1:-2].mean().values,\n",
    "                                                asub.loc[awayteam, hometeam].iloc[:,2:-2].mean().values, tmp_data[away_columns].values[0]]))\n",
    "    \n",
    "    for team, matches in h_team_data.items():\n",
    "        for idx in range(1,len(matches)):\n",
    "            if idx < prematch-1:\n",
    "                pre_match_data = matches[:idx+1]\n",
    "            else:\n",
    "                pre_match_data = matches[idx-prematch+1:idx+1]\n",
    "            pre_match_data_key = hr[hr['round']==int(pre_match_data[-1][0])].loc[team].index.unique().values[0]\n",
    "            pre_match_data = np.vstack(pre_match_data)\n",
    "            final_dict[team]['HOME'][pre_match_data_key] = pre_match_data[:-1, 1:]\n",
    "            \n",
    "    for team, matches in a_team_data.items():\n",
    "        for idx in range(1, len(matches)):\n",
    "            if idx < prematch-1:\n",
    "                pre_match_data = matches[:idx+1]\n",
    "            else:\n",
    "                pre_match_data = matches[idx-prematch+1:idx+1]\n",
    "            pre_match_data_key = ar[ar['round']==int(pre_match_data[-1][0])].loc[team].index.unique().values[0]\n",
    "            pre_match_data = np.vstack(pre_match_data)\n",
    "            final_dict[team]['AWAY'][pre_match_data_key] = pre_match_data[:-1, 1:]\n",
    "            \n",
    "    return final_dict"
   ]
  },
  {
   "cell_type": "code",
   "execution_count": 108,
   "metadata": {},
   "outputs": [],
   "source": [
    "tmp_dict = prepare_data(ss20, hr20, ar20, hs20, as20)"
   ]
  },
  {
   "cell_type": "code",
   "execution_count": null,
   "metadata": {},
   "outputs": [],
   "source": []
  },
  {
   "cell_type": "code",
   "execution_count": 109,
   "metadata": {},
   "outputs": [],
   "source": [
    "def create_X_y(final_dict: dict, org_data: pd.DataFrame):\n",
    "\n",
    "    X =np.empty((0,77))\n",
    "    y = []\n",
    "    data_dict = {}\n",
    "    for team_idx in final_dict.keys():\n",
    "        for opponent, match_data in final_dict[team_idx]['HOME'].items():\n",
    "            match_dict = {}\n",
    "            team1_data = match_data\n",
    "            try:\n",
    "                team2_data = final_dict[opponent]['AWAY'][team_idx]\n",
    "            except KeyError:\n",
    "                continue\n",
    "            away, _, home, h,d,a = org_data[(org_data['hometeam']==team_idx) & (org_data['awayteam']==opponent)][result_cols+bet_columns].values.tolist()[0]\n",
    "            \n",
    "            weights_1 = np.ones(team1_data.shape[0])/(team1_data.shape[0])\n",
    "            weights_2 = np.ones(team2_data.shape[0])/(team2_data.shape[0])\n",
    "            team1_prematch = np.dot(weights_1, team1_data).reshape(-1)\n",
    "            team2_prematch = np.dot(weights_2, team2_data).reshape(-1)\n",
    "            prematch = np.concatenate((team1_prematch, team2_prematch))\n",
    "            prematch = np.concatenate((prematch, np.array([h,d,a])))\n",
    "            \n",
    "            this_match_res = 0 if home == 1 else 2 if away == 1 else 1\n",
    "            X = np.vstack((X, prematch))\n",
    "            y.append(this_match_res)\n",
    "            \n",
    "            match_dict['x'] = prematch\n",
    "            match_dict['y'] = this_match_res\n",
    "            data_dict[team_idx+opponent] = match_dict\n",
    "    y = np.asarray(y)\n",
    "    return data_dict, X, y"
   ]
  },
  {
   "cell_type": "code",
   "execution_count": 110,
   "metadata": {},
   "outputs": [],
   "source": [
    "def handle_data(ss: int, prematch:int = 5, seq: bool = False):\n",
    "    global df, Home_run, Home_sub, Away_run, Away_sub\n",
    "    tmpss=ss-19\n",
    "    sscheck = df[df['season']==tmpss]\n",
    "    hrss = Home_run[Home_run['season']==tmpss].drop(columns='season')\n",
    "    hsss = Home_sub[Home_sub['season']==tmpss].drop(columns='season')\n",
    "    arss = Away_run[Away_run['season']==tmpss].drop(columns='season')\n",
    "    asss = Away_sub[Away_sub['season']==tmpss].drop(columns='season')\n",
    "    finalss = prepare_data(sscheck,hrss, arss,hsss, asss,prematch=prematch)\n",
    "    _, X, y = create_X_y(finalss, sscheck)\n",
    "    print(X.shape, y.shape)\n",
    "    if seq:\n",
    "        np.save(f'Both/Data/inputs{ss}_{ss+1}_seq.npy',X)\n",
    "        np.save(f'Both/Data/outputs{ss}_{ss+1}_seq.npy',y)\n",
    "    else:\n",
    "        np.save(f'Both/Data/Playerinputs{ss}_{ss+1}.npy',X)\n",
    "        np.save(f'Both/Data/Playeroutputs{ss}_{ss+1}.npy',y)"
   ]
  },
  {
   "cell_type": "code",
   "execution_count": 111,
   "metadata": {},
   "outputs": [
    {
     "name": "stdout",
     "output_type": "stream",
     "text": [
      "(318, 77) (318,)\n",
      "(327, 77) (327,)\n",
      "(333, 77) (333,)\n",
      "(320, 77) (320,)\n"
     ]
    }
   ],
   "source": [
    "handle_data(21,4)\n",
    "handle_data(22,4)\n",
    "handle_data(23,4)\n",
    "handle_data(20,4)"
   ]
  },
  {
   "cell_type": "code",
   "execution_count": 112,
   "metadata": {},
   "outputs": [],
   "source": [
    "input_21 = np.load('Both/Data/Playerinputs21_22.npy', allow_pickle=True)\n",
    "y_21 = np.load('Both/Data/Playeroutputs21_22.npy', allow_pickle=True)\n",
    "input_22 = np.load('Both/Data/Playerinputs22_23.npy', allow_pickle=True)\n",
    "y_22 = np.load('Both/Data/Playeroutputs22_23.npy', allow_pickle=True)\n",
    "input_23 = np.load('Both/Data/Playerinputs23_24.npy', allow_pickle=True)\n",
    "y_23 = np.load('Both/Data/Playeroutputs23_24.npy', allow_pickle=True)\n",
    "\n",
    "\n",
    "INPUTS = np.vstack((input_21,input_22))\n",
    "# INPUTS = np.vstack((INPUTS, input_22_1_1))\n",
    "LABELS = np.concatenate((y_21,y_22))\n",
    "# LABELS = np.concatenate((LABELS, y_22))"
   ]
  },
  {
   "cell_type": "code",
   "execution_count": 113,
   "metadata": {},
   "outputs": [],
   "source": [
    "def cal_profit(y_predict):\n",
    "    global input_23, y_23\n",
    "    bet_rate = input_23[:,-3:]\n",
    "    original = 2*(y_predict.shape[0])\n",
    "    money = original\n",
    "    for i in range(y_predict.shape[0]):\n",
    "        if y_predict[i] == y_23[i]:\n",
    "            money+= (bet_rate[i][y_predict[i]]-1)*2\n",
    "        else:\n",
    "            money-=2\n",
    "    return money/original *100 - 100"
   ]
  },
  {
   "cell_type": "code",
   "execution_count": 114,
   "metadata": {},
   "outputs": [
    {
     "name": "stdout",
     "output_type": "stream",
     "text": [
      "0.6232558139534884\n"
     ]
    },
    {
     "data": {
      "image/png": "[encoded data removed]",
      "text/plain": [
       "<Figure size 640x480 with 2 Axes>"
      ]
     },
     "metadata": {},
     "output_type": "display_data"
    },
    {
     "name": "stdout",
     "output_type": "stream",
     "text": [
      "profit: 4.471 %\n"
     ]
    },
    {
     "data": {
      "text/plain": [
       "0.4744744744744745"
      ]
     },
     "execution_count": 114,
     "metadata": {},
     "output_type": "execute_result"
    }
   ],
   "source": [
    "svc_ovo = SVC(kernel='linear')\n",
    "svc_ovo.fit(INPUTS, LABELS)\n",
    "y_predict = svc_ovo.predict(input_23)\n",
    "print(accuracy_score(LABELS, svc_ovo.predict(INPUTS)))\n",
    "cm = confusion_matrix(y_23, y_predict)\n",
    "disp = ConfusionMatrixDisplay(confusion_matrix=cm, display_labels=[\"H\", \"D\", \"A\"])\n",
    "disp.plot(cmap=plt.cm.Blues)\n",
    "plt.title(\"Confusion Matrix\")\n",
    "plt.show()\n",
    "print(f\"profit: {cal_profit(y_predict):.3f} %\")\n",
    "accuracy_score(y_23, y_predict)"
   ]
  },
  {
   "cell_type": "code",
   "execution_count": 115,
   "metadata": {},
   "outputs": [
    {
     "name": "stdout",
     "output_type": "stream",
     "text": [
      "1.0\n"
     ]
    },
    {
     "data": {
      "image/png": "[encoded data removed]",
      "text/plain": [
       "<Figure size 640x480 with 2 Axes>"
      ]
     },
     "metadata": {},
     "output_type": "display_data"
    },
    {
     "name": "stdout",
     "output_type": "stream",
     "text": [
      "profit: 10.333 %\n"
     ]
    },
    {
     "data": {
      "text/plain": [
       "0.5885885885885885"
      ]
     },
     "execution_count": 115,
     "metadata": {},
     "output_type": "execute_result"
    }
   ],
   "source": [
    "rf_clf = RandomForestClassifier(criterion='entropy', random_state=42)\n",
    "rf_clf.fit(INPUTS, LABELS)\n",
    "y_predict = rf_clf.predict(input_23)\n",
    "print(accuracy_score(LABELS, rf_clf.predict(INPUTS)))\n",
    "cm = confusion_matrix(y_23, y_predict)\n",
    "disp = ConfusionMatrixDisplay(confusion_matrix=cm, display_labels=[\"H\", \"D\", \"A\"])\n",
    "disp.plot(cmap=plt.cm.Blues)\n",
    "plt.title(\"Confusion Matrix\")\n",
    "plt.show()\n",
    "print(f\"profit: {cal_profit(y_predict):.3f} %\")\n",
    "accuracy_score(y_23, y_predict)\n"
   ]
  },
  {
   "cell_type": "code",
   "execution_count": 116,
   "metadata": {},
   "outputs": [
    {
     "name": "stdout",
     "output_type": "stream",
     "text": [
      "0.9906976744186047\n"
     ]
    },
    {
     "data": {
      "image/png": "[encoded data removed]",
      "text/plain": [
       "<Figure size 640x480 with 2 Axes>"
      ]
     },
     "metadata": {},
     "output_type": "display_data"
    },
    {
     "name": "stdout",
     "output_type": "stream",
     "text": [
      "profit: 8.832 %\n"
     ]
    },
    {
     "data": {
      "text/plain": [
       "0.5525525525525525"
      ]
     },
     "execution_count": 116,
     "metadata": {},
     "output_type": "execute_result"
    }
   ],
   "source": [
    "xGboost_clf = GradientBoostingClassifier(random_state=42)\n",
    "xGboost_clf.fit(INPUTS, LABELS)\n",
    "y_predict = xGboost_clf.predict(input_23)\n",
    "print(accuracy_score(LABELS, xGboost_clf.predict(INPUTS)))\n",
    "cm = confusion_matrix(y_23, y_predict)\n",
    "disp = ConfusionMatrixDisplay(confusion_matrix=cm, display_labels=[\"H\", \"D\", \"A\"])\n",
    "disp.plot(cmap=plt.cm.Blues)\n",
    "plt.title(\"Confusion Matrix\")\n",
    "plt.show()\n",
    "print(f\"profit: {cal_profit(y_predict):.3f} %\")\n",
    "accuracy_score(y_23, y_predict)\n"
   ]
  },
  {
   "cell_type": "code",
   "execution_count": 117,
   "metadata": {},
   "outputs": [],
   "source": [
    "import pickle\n",
    "\n",
    "# Save the model\n",
    "with open('Both/Model/H_D_A/SVM.pkl', 'wb') as f:\n",
    "    pickle.dump(svc_ovo, f)\n",
    "\n",
    "with open('Both/Model/H_D_A/RandomForest.pkl', 'wb') as f:\n",
    "    pickle.dump(rf_clf, f)\n",
    "    \n",
    "with open('Both/Model/H_D_A/xGBoost.pkl', 'wb') as f:\n",
    "    pickle.dump(xGboost_clf, f)\n"
   ]
  },
  {
   "cell_type": "code",
   "execution_count": 120,
   "metadata": {},
   "outputs": [
    {
     "name": "stdout",
     "output_type": "stream",
     "text": [
      "Label Distribution: Counter({0: 285, 2: 200, 1: 160})\n",
      "New Label Distribution: Counter({0: 285, 1: 285, 2: 285})\n"
     ]
    }
   ],
   "source": [
    "import numpy as np\n",
    "from collections import Counter\n",
    "\n",
    "# Check label distribution\n",
    "label_counts = Counter(LABELS)\n",
    "print(f\"Label Distribution: {label_counts}\")\n",
    "\n",
    "\n",
    "from imblearn.over_sampling import SMOTE\n",
    "\n",
    "smote = SMOTE(random_state=42)\n",
    "INPUTS_balanced, LABELS_balanced = smote.fit_resample(INPUTS, LABELS)\n",
    "\n",
    "print(f\"New Label Distribution: {Counter(LABELS_balanced)}\")\n",
    "\n"
   ]
  },
  {
   "cell_type": "code",
   "execution_count": 123,
   "metadata": {},
   "outputs": [
    {
     "name": "stdout",
     "output_type": "stream",
     "text": [
      "0.9875968992248062\n"
     ]
    },
    {
     "data": {
      "image/png": "[encoded data removed]",
      "text/plain": [
       "<Figure size 640x480 with 2 Axes>"
      ]
     },
     "metadata": {},
     "output_type": "display_data"
    },
    {
     "name": "stdout",
     "output_type": "stream",
     "text": [
      "profit: 20.835 %\n"
     ]
    },
    {
     "data": {
      "text/plain": [
       "0.5585585585585585"
      ]
     },
     "execution_count": 123,
     "metadata": {},
     "output_type": "execute_result"
    }
   ],
   "source": [
    "xGboost_clf = GradientBoostingClassifier(random_state=42)\n",
    "xGboost_clf.fit(INPUTS_balanced, LABELS_balanced)\n",
    "y_predict = xGboost_clf.predict(input_23)\n",
    "print(accuracy_score(LABELS, xGboost_clf.predict(INPUTS)))\n",
    "cm = confusion_matrix(y_23, y_predict)\n",
    "disp = ConfusionMatrixDisplay(confusion_matrix=cm, display_labels=[\"H\", \"D\", \"A\"])\n",
    "disp.plot(cmap=plt.cm.Blues)\n",
    "plt.title(\"Confusion Matrix\")\n",
    "plt.show()\n",
    "print(f\"profit: {cal_profit(y_predict):.3f} %\")\n",
    "accuracy_score(y_23, y_predict)\n"
   ]
  }
 ],
 "metadata": {
  "kernelspec": {
   "display_name": "MODELAI",
   "language": "python",
   "name": "python3"
  },
  "language_info": {
   "codemirror_mode": {
    "name": "ipython",
    "version": 3
   },
   "file_extension": ".py",
   "mimetype": "text/x-python",
   "name": "python",
   "nbconvert_exporter": "python",
   "pygments_lexer": "ipython3",
   "version": "3.11.10"
  }
 },
 "nbformat": 4,
 "nbformat_minor": 2
}
